{
 "cells": [
  {
   "cell_type": "code",
   "execution_count": 2,
   "metadata": {},
   "outputs": [
    {
     "name": "stdout",
     "output_type": "stream",
     "text": [
      "* | * | *\n",
      "* | * | *\n",
      "* | * | *\n",
      "\n",
      "X****O****\n",
      "* | * | *\n",
      "* | O | *\n",
      "* | * | *\n",
      "\n",
      "O**X*O****\n",
      "* | * | X\n",
      "* | O | *\n",
      "* | * | *\n",
      "\n",
      "X**X*O*O**\n",
      "* | * | X\n",
      "* | O | *\n",
      "O | * | *\n",
      "\n",
      "O**XXO*O**\n",
      "* | * | X\n",
      "X | O | *\n",
      "O | * | *\n",
      "\n",
      "X**XXO*OO*\n",
      "* | * | X\n",
      "X | O | *\n",
      "O | O | *\n",
      "\n",
      "OX*XXO*OO*\n",
      "X | * | X\n",
      "X | O | *\n",
      "O | O | *\n",
      "\n",
      "XXOXXO*OO*\n"
     ]
    }
   ],
   "source": [
    "import game\n",
    "# from game import Board"
   ]
  },
  {
   "cell_type": "code",
   "execution_count": 11,
   "metadata": {},
   "outputs": [
    {
     "name": "stdout",
     "output_type": "stream",
     "text": [
      "* | * | *\n",
      "* | * | *\n",
      "* | * | *\n",
      "\n",
      "X****O****\n",
      "* | * | *\n",
      "* | O | *\n",
      "* | * | *\n",
      "\n",
      "O**X*O****\n",
      "* | * | X\n",
      "* | O | *\n",
      "* | * | *\n",
      "\n",
      "X**X*O*O**\n",
      "* | * | X\n",
      "* | O | *\n",
      "O | * | *\n",
      "\n",
      "O**XXO*O**\n",
      "* | * | X\n",
      "X | O | *\n",
      "O | * | *\n",
      "\n",
      "X**XXO*OO*\n"
     ]
    }
   ],
   "source": [
    "gb = game.init_board(2)\n",
    "print(gb)\n",
    "gb.input_location(2, 2)\n",
    "gb.change_player()\n",
    "print(gb.print_game_state())\n",
    "print(gb)\n",
    "gb.input_location(1, 3)\n",
    "gb.change_player()\n",
    "print(gb.print_game_state())\n",
    "print(gb)\n",
    "gb.input_location(3, 1)\n",
    "gb.change_player()\n",
    "print(gb.print_game_state())\n",
    "print(gb)\n",
    "gb.input_location(2, 1)\n",
    "gb.change_player()\n",
    "print(gb.print_game_state())\n",
    "print(gb)\n",
    "gb.input_location(3, 2)\n",
    "gb.change_player()\n",
    "print(gb.print_game_state())\n"
   ]
  },
  {
   "cell_type": "code",
   "execution_count": 12,
   "metadata": {},
   "outputs": [
    {
     "name": "stdout",
     "output_type": "stream",
     "text": [
      "* | * | X\n",
      "X | O | *\n",
      "O | O | *\n",
      "\n",
      "O*XXXO*OO*\n"
     ]
    }
   ],
   "source": [
    "print(gb)\n",
    "gb.input_location(1, 2)\n",
    "gb.change_player()\n",
    "print(gb.print_game_state())\n"
   ]
  },
  {
   "cell_type": "code",
   "execution_count": 13,
   "metadata": {},
   "outputs": [
    {
     "name": "stdout",
     "output_type": "stream",
     "text": [
      "* | X | X\n",
      "X | O | *\n",
      "O | O | *\n",
      "\n",
      "XOXXXO*OO*\n",
      "O | X | X\n",
      "X | O | *\n",
      "O | O | *\n",
      "\n",
      "O | X | X\n",
      "X | O | *\n",
      "O | O | X\n",
      "\n",
      "O | X | X\n",
      "X | O | O\n",
      "O | O | X\n",
      "\n"
     ]
    }
   ],
   "source": [
    "print(gb)\n",
    "gb.input_location(1, 1)\n",
    "gb.change_player()\n",
    "print(gb.print_game_state())\n",
    "print(gb)\n",
    "gb.input_location(3, 3)\n",
    "gb.change_player()\n",
    "print(gb)\n",
    "gb.input_location(2, 3)\n",
    "gb.change_player()\n",
    "print(gb)"
   ]
  },
  {
   "cell_type": "code",
   "execution_count": 14,
   "metadata": {},
   "outputs": [
    {
     "name": "stdout",
     "output_type": "stream",
     "text": [
      "n\n"
     ]
    }
   ],
   "source": [
    "print(gb.end_state())"
   ]
  },
  {
   "cell_type": "code",
   "execution_count": 7,
   "metadata": {},
   "outputs": [
    {
     "name": "stdout",
     "output_type": "stream",
     "text": [
      "The current player is O, please make your move.\n",
      "\n",
      "The current board is:\n",
      "* | * | *\n",
      "* | * | *\n",
      "* | * | *\n",
      "\n",
      "The current player is X, please make your move.\n",
      "\n",
      "The current board is:\n",
      "* | O | *\n",
      "* | * | *\n",
      "* | * | *\n",
      "\n"
     ]
    },
    {
     "ename": "ValueError",
     "evalue": "invalid literal for int() with base 10: ''",
     "output_type": "error",
     "traceback": [
      "\u001b[0;31m---------------------------------------------------------------------------\u001b[0m",
      "\u001b[0;31mValueError\u001b[0m                                Traceback (most recent call last)",
      "\u001b[0;32m/var/folders/mz/yycqh_ns3wq7gwwbxxxk9fqc0000gn/T/ipykernel_30009/1329950828.py\u001b[0m in \u001b[0;36m<module>\u001b[0;34m\u001b[0m\n\u001b[1;32m      6\u001b[0m     \u001b[0mprint\u001b[0m\u001b[0;34m(\u001b[0m\u001b[0;34m\"The current board is:\"\u001b[0m\u001b[0;34m)\u001b[0m\u001b[0;34m\u001b[0m\u001b[0;34m\u001b[0m\u001b[0m\n\u001b[1;32m      7\u001b[0m     \u001b[0mprint\u001b[0m\u001b[0;34m(\u001b[0m\u001b[0mgb\u001b[0m\u001b[0;34m)\u001b[0m\u001b[0;34m\u001b[0m\u001b[0;34m\u001b[0m\u001b[0m\n\u001b[0;32m----> 8\u001b[0;31m     \u001b[0mrow\u001b[0m\u001b[0;34m,\u001b[0m \u001b[0mcolumn\u001b[0m \u001b[0;34m=\u001b[0m \u001b[0mgame\u001b[0m\u001b[0;34m.\u001b[0m\u001b[0mdetect_input\u001b[0m\u001b[0;34m(\u001b[0m\u001b[0mgb\u001b[0m\u001b[0;34m)\u001b[0m\u001b[0;34m\u001b[0m\u001b[0;34m\u001b[0m\u001b[0m\n\u001b[0m\u001b[1;32m      9\u001b[0m     \u001b[0mgb\u001b[0m\u001b[0;34m.\u001b[0m\u001b[0minput_location\u001b[0m\u001b[0;34m(\u001b[0m\u001b[0mrow\u001b[0m\u001b[0;34m,\u001b[0m \u001b[0mcolumn\u001b[0m\u001b[0;34m)\u001b[0m\u001b[0;34m\u001b[0m\u001b[0;34m\u001b[0m\u001b[0m\n\u001b[1;32m     10\u001b[0m     \u001b[0mgb\u001b[0m\u001b[0;34m.\u001b[0m\u001b[0mchange_player\u001b[0m\u001b[0;34m(\u001b[0m\u001b[0;34m)\u001b[0m\u001b[0;34m\u001b[0m\u001b[0;34m\u001b[0m\u001b[0m\n",
      "\u001b[0;32m~/VScode/Udemy/Project1/game.py\u001b[0m in \u001b[0;36mdetect_input\u001b[0;34m(game_board)\u001b[0m\n\u001b[1;32m    141\u001b[0m         \u001b[0mrow\u001b[0m \u001b[0;34m=\u001b[0m \u001b[0minput\u001b[0m\u001b[0;34m(\u001b[0m\u001b[0;34m\"Please first enter the row number(1-3)\"\u001b[0m\u001b[0;34m)\u001b[0m\u001b[0;34m\u001b[0m\u001b[0;34m\u001b[0m\u001b[0m\n\u001b[1;32m    142\u001b[0m         \u001b[0mcolumn\u001b[0m \u001b[0;34m=\u001b[0m \u001b[0minput\u001b[0m\u001b[0;34m(\u001b[0m\u001b[0;34m\"Please then enter the column number(1-3)\"\u001b[0m\u001b[0;34m)\u001b[0m\u001b[0;34m\u001b[0m\u001b[0;34m\u001b[0m\u001b[0m\n\u001b[0;32m--> 143\u001b[0;31m         \u001b[0;32mif\u001b[0m \u001b[0;32mnot\u001b[0m \u001b[0mvalidate_input\u001b[0m\u001b[0;34m(\u001b[0m\u001b[0mgame_board\u001b[0m\u001b[0;34m,\u001b[0m \u001b[0mint\u001b[0m\u001b[0;34m(\u001b[0m\u001b[0mrow\u001b[0m\u001b[0;34m)\u001b[0m\u001b[0;34m,\u001b[0m \u001b[0mint\u001b[0m\u001b[0;34m(\u001b[0m\u001b[0mcolumn\u001b[0m\u001b[0;34m)\u001b[0m\u001b[0;34m)\u001b[0m\u001b[0;34m:\u001b[0m\u001b[0;34m\u001b[0m\u001b[0;34m\u001b[0m\u001b[0m\n\u001b[0m\u001b[1;32m    144\u001b[0m             \u001b[0;31m# tkinter.messagebox.showwarning(title=\"Error\", message=\"Invalid input(s)\")\u001b[0m\u001b[0;34m\u001b[0m\u001b[0;34m\u001b[0m\u001b[0;34m\u001b[0m\u001b[0m\n\u001b[1;32m    145\u001b[0m             \u001b[0minput\u001b[0m\u001b[0;34m(\u001b[0m\u001b[0;34m\"Invalid input(s), press Enter to redo\"\u001b[0m\u001b[0;34m)\u001b[0m\u001b[0;34m\u001b[0m\u001b[0;34m\u001b[0m\u001b[0m\n",
      "\u001b[0;31mValueError\u001b[0m: invalid literal for int() with base 10: ''"
     ]
    }
   ],
   "source": [
    "gb = game.init_board(2)\n",
    "# print(1)\n",
    "# print(gb.end_state())\n",
    "while gb.end_state() == 'n':\n",
    "    print(f\"The current player is {gb.current_player}, please make your move.\\n\")\n",
    "    print(\"The current board is:\")\n",
    "    print(gb)\n",
    "    row, column = game.detect_input(gb)\n",
    "    gb.input_location(row, column)\n",
    "    gb.change_player()\n",
    "print(f\"Congratulations player {gb.current_player}\")\n"
   ]
  },
  {
   "cell_type": "code",
   "execution_count": 5,
   "metadata": {},
   "outputs": [
    {
     "name": "stdout",
     "output_type": "stream",
     "text": [
      "O | X | O\n",
      "O | X | O\n",
      "O | X | O\n",
      "\n",
      "O | X | O\n",
      "O | X | O\n",
      "O | X | O\n",
      "\n"
     ]
    },
    {
     "data": {
      "text/plain": [
       "'O'"
      ]
     },
     "execution_count": 5,
     "metadata": {},
     "output_type": "execute_result"
    }
   ],
   "source": [
    "gb = game.init_board(2)\n",
    "print(gb)\n",
    "gb.change_player()\n",
    "print(gb)\n",
    "gb.end_state()\n"
   ]
  },
  {
   "cell_type": "code",
   "execution_count": 11,
   "metadata": {},
   "outputs": [
    {
     "data": {
      "text/plain": [
       "0"
      ]
     },
     "execution_count": 11,
     "metadata": {},
     "output_type": "execute_result"
    }
   ],
   "source": [
    "a = int(1)\n",
    "b = int(0)\n",
    "\n",
    "a and b\n",
    "a and a and b"
   ]
  },
  {
   "cell_type": "code",
   "execution_count": 2,
   "metadata": {},
   "outputs": [
    {
     "data": {
      "text/plain": [
       "\"['o', 'x', '*']\""
      ]
     },
     "execution_count": 2,
     "metadata": {},
     "output_type": "execute_result"
    }
   ],
   "source": [
    "a = ['o','x','*']\n",
    "str(a)"
   ]
  },
  {
   "cell_type": "code",
   "execution_count": 3,
   "metadata": {},
   "outputs": [
    {
     "data": {
      "text/plain": [
       "'1'"
      ]
     },
     "execution_count": 3,
     "metadata": {},
     "output_type": "execute_result"
    }
   ],
   "source": [
    "a = \"124354657\"\n",
    "a[0]"
   ]
  }
 ],
 "metadata": {
  "kernelspec": {
   "display_name": "base",
   "language": "python",
   "name": "python3"
  },
  "language_info": {
   "codemirror_mode": {
    "name": "ipython",
    "version": 3
   },
   "file_extension": ".py",
   "mimetype": "text/x-python",
   "name": "python",
   "nbconvert_exporter": "python",
   "pygments_lexer": "ipython3",
   "version": "3.7.13"
  },
  "orig_nbformat": 4
 },
 "nbformat": 4,
 "nbformat_minor": 2
}
